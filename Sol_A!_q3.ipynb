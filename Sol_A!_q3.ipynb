{
 "cells": [
  {
   "cell_type": "markdown",
   "metadata": {},
   "source": [
    "#### **Q3: BUBBLE POINT METHOD – MULTICOMPONENT MULTISTAGE DISTILLATION** \n",
    "1000 kmol/h of a saturated-liquid mixture of 60% methanol (normal boiling point 65 C), 20 mol% ethanol \n",
    "(normal boiling point 98 C), and 20 mol% n-propanol (normal boiling point 97 C) is fed to the middle \n",
    "stage of a distillation column having three equilibrium stages, a total condenser, a partial reboiler, all \n",
    "operated at 1 atm. The distillate rate is 600 kmol/h, and the external reflux rate is 2,000 kmol/h of \n",
    "saturated liquid."
   ]
  },
  {
   "cell_type": "code",
   "execution_count": null,
   "metadata": {},
   "outputs": [],
   "source": [
    "#### **Q3: BUBBLE POINT METHOD – MULTICOMPONENT MULTISTAGE DISTILLATION** \n",
    "\"\"\" \n",
    "1000 kmol/h of a saturated-liquid mixture of 60% methanol (normal boiling point 65 C), 20 mol% ethanol \n",
    "(normal boiling point 98 C), and 20 mol% n-propanol (normal boiling point 97 C) is fed to the middle \n",
    "stage of a distillation column having three equilibrium stages, a total condenser, a partial reboiler, all \n",
    "operated at 1 atm. The distillate rate is 600 kmol/h, and the external reflux rate is 2,000 kmol/h of \n",
    "saturated liquid.\n",
    "\"\"\"\n",
    "# Write your own code to obtain converged solutions of the temperature profiles.\n",
    "\n",
    "\n",
    "# Algorithm for obtaining converged solutions of the temperature profiles.\n",
    "# 1. Assume an initial temperature profile.\n",
    "# 2. Calculate the bubble point temperature of each stage.\n",
    "# 3. Calculate the dew point temperature of each stage.\n",
    "# 4. Calculate the average temperature of each stage.\n",
    "# 5. Update the temperature profile.\n",
    "# 6. Repeat steps 2-5 until the temperature profile converges.\n"
   ]
  },
  {
   "cell_type": "code",
   "execution_count": null,
   "metadata": {},
   "outputs": [],
   "source": [
    "import numpy as np    \n",
    "def calculate_Pij(A :np.array,B :np.array,C :np.array,T_j :np.array) -> np.array:\n",
    "        \"\"\"\n",
    "        Calculate the saturation pressure of a component at a given temperature.\n",
    "\n",
    "        Parameters:\n",
    "        A : float\n",
    "            Antoine's coefficient A.\n",
    "        B : float\n",
    "            Antoine's coefficient B.\n",
    "        C : float\n",
    "            Antoine's coefficient C.\n",
    "        T : float\n",
    "            Temperature in Celsius.\n",
    "\n",
    "        Returns:\n",
    "        float\n",
    "            Saturation pressure in atm.\n",
    "        \"\"\"\n",
    "        return np.array([[10**(A[i] - B[i]/(T_j[j] + C[i])) for j in range(len(T_j))] for i in range(3)])\n"
   ]
  },
  {
   "cell_type": "code",
   "execution_count": 10,
   "metadata": {},
   "outputs": [
    {
     "name": "stdout",
     "output_type": "stream",
     "text": [
      "[[ 785.09243236 2504.63922632 2426.46128911]\n",
      " [1095.1321941  2931.95583891 2854.08359123]\n",
      " [1259.64939087 3119.33795651 3042.97046498]]\n"
     ]
    }
   ],
   "source": [
    "A= [7.89750, 7.28610, 7.01050]\n",
    "B= [1474.08, 1251.33, 1152.21]\n",
    "C= [229.664, 229.664, 229.664]\n",
    "T_j= [65, 98, 97]\n",
    "\n",
    "print(calculate_Pij(A,B,C,T_j))\n",
    "\n"
   ]
  },
  {
   "cell_type": "code",
   "execution_count": 12,
   "metadata": {},
   "outputs": [
    {
     "name": "stdout",
     "output_type": "stream",
     "text": [
      "[[785.0924323551616, 1095.132194103674, 1259.6493908746313], [2504.63922632249, 2931.9558389086556, 3119.3379565135674], [2426.4612891144425, 2854.0835912281036, 3042.97046498474]]\n"
     ]
    }
   ],
   "source": [
    "def calculatate_Kij(Pij_sat: np.array)-> np.array:\n",
    "    \"\"\"\n",
    "    Calculate the Ki values for the components.\n",
    "\n",
    "    Parameters:\n",
    "    Pi_sat : list\n",
    "        List of saturation pressures for the components.\n",
    "\n",
    "    Returns:\n",
    "    list\n",
    "        List of Ki values for the components.\n",
    "    \"\"\"\n",
    "    return [[Pij_sat[i][j] for i in range(len(Pij_sat))] for j in range(len(Pij_sat[0]))]\n",
    "\n",
    "print(calculatate_Kij(calculate_Pij(A,B,C,T_j)))"
   ]
  },
  {
   "cell_type": "code",
   "execution_count": 13,
   "metadata": {},
   "outputs": [
    {
     "name": "stdout",
     "output_type": "stream",
     "text": [
      "[0.56640823 0.34748971 0.19376154 0.09153758 0.03359177]\n"
     ]
    }
   ],
   "source": [
    "def thomas_algorithm( A: np.array, B: np.array, C: np.array, D: np.array)-> np.array:\n",
    "    \"\"\"\n",
    "    Solve a tridiagonal system of equations using the Thomas algorithm.\n",
    "\n",
    "    Parameters:\n",
    "    A : list\n",
    "        Lower diagonal elements.\n",
    "    B : list\n",
    "        Main diagonal elements.\n",
    "    C : list\n",
    "        Upper diagonal elements.\n",
    "    D : list\n",
    "        Right-hand side vector.\n",
    "\n",
    "    Returns:\n",
    "    list\n",
    "        Solution vector.\n",
    "    \"\"\"\n",
    "    n = len(B)\n",
    "    c_prime = np.zeros(n)\n",
    "    d_prime = np.zeros(n)\n",
    "    x = np.zeros(n)\n",
    "    \n",
    "    c_prime[0] = C[0]/B[0]\n",
    "    d_prime[0] = D[0]/B[0]\n",
    "    \n",
    "    for i in range(1, n):\n",
    "        c_prime[i] = C[i]/(B[i] - A[i]*c_prime[i-1])\n",
    "        d_prime[i] = (D[i] - A[i]*d_prime[i-1])/(B[i] - A[i]*c_prime[i-1])\n",
    "    \n",
    "    x[-1] = d_prime[-1]\n",
    "    \n",
    "    for i in range(n-2, -1, -1):\n",
    "        x[i] = d_prime[i] - c_prime[i]*x[i+1]\n",
    "    \n",
    "    return x\n",
    "\n",
    "A =[0,100,100,200,200]\n",
    "B =[-150,-344.5,-525.5,-605,-545]\n",
    "C =[244.5,325.5,405,495,0]\n",
    "D= [0,0,-30,0,0]\n",
    "\n",
    "print(thomas_algorithm(A,B,C,D))"
   ]
  },
  {
   "cell_type": "code",
   "execution_count": 17,
   "metadata": {},
   "outputs": [
    {
     "name": "stdout",
     "output_type": "stream",
     "text": [
      "True\n"
     ]
    }
   ],
   "source": [
    "def check_summation( Xij: np.array) -> bool:\n",
    "    \"\"\"\n",
    "    Check if the summation of Xij is equal to 1.\n",
    "\n",
    "    Parameters:\n",
    "    Xij : list\n",
    "        List of component mole fractions.\n",
    "\n",
    "    Returns:\n",
    "    bool\n",
    "        True if the summation is equal to 1, False otherwise.\n",
    "    \"\"\"\n",
    "    return np.isclose(sum(Xij), 1, atol=1e-10)\n",
    "print(check_summation([0.2, 0.3, 0.5]))"
   ]
  },
  {
   "cell_type": "code",
   "execution_count": 38,
   "metadata": {},
   "outputs": [],
   "source": [
    "def calculate_Lj( feed_tray: int , Vj: np.array)-> np.array:\n",
    "    \"\"\"\n",
    "    Calculate the liquid flow rates for each component.\n",
    "\n",
    "    Parameters:\n",
    "    Kij : list\n",
    "        List of Ki values for the components.\n",
    "    Vj : list\n",
    "        List of vapor flow rates.\n",
    "\n",
    "    Returns:\n",
    "    list\n",
    "        List of liquid flow rates for each component.\n",
    "    \"\"\"\n",
    "\n",
    "    Lj = np.zeros_like(Vj)\n",
    "\n",
    "    # Lj Before feed tray\n",
    "    for i in range(feed_tray-1):\n",
    "        Lj[i] = Vj[i+1] + 1\n",
    "        \n",
    "    # Lj After feed tray\n",
    "    for i in range(feed_tray-1, 3-1):\n",
    "        Lj[i] = Vj[i+1] + 2+ 1\n",
    "        \n",
    "    return Lj"
   ]
  },
  {
   "cell_type": "code",
   "execution_count": 39,
   "metadata": {},
   "outputs": [
    {
     "data": {
      "text/plain": [
       "array([1.3, 3.5, 0. ])"
      ]
     },
     "execution_count": 39,
     "metadata": {},
     "output_type": "execute_result"
    }
   ],
   "source": [
    "calculate_Lj(2, [0, 0.3, 0.5])\n"
   ]
  },
  {
   "cell_type": "code",
   "execution_count": 41,
   "metadata": {},
   "outputs": [],
   "source": [
    "def calculate_Aj(Lj: np.array)-> np.array:\n",
    "    \"\"\"\n",
    "    Calculate the Aj values for each component.\n",
    "\n",
    "    Parameters:\n",
    "    Lj : list\n",
    "        List of liquid flow rates for each component.\n",
    "    Vj : list\n",
    "        List of vapor flow rates.\n",
    "\n",
    "    Returns:\n",
    "    list\n",
    "        List of Aj values for each component.\n",
    "    \"\"\"\n",
    "    # Aj = Lj-1\n",
    "    Aj = np.zeros_like(Lj)\n",
    "    Aj[0] = 0\n",
    "    Aj[1:] = Lj[:-1]\n",
    "    return Aj"
   ]
  },
  {
   "cell_type": "code",
   "execution_count": 42,
   "metadata": {},
   "outputs": [
    {
     "data": {
      "text/plain": [
       "array([0. , 1.3, 3.5])"
      ]
     },
     "execution_count": 42,
     "metadata": {},
     "output_type": "execute_result"
    }
   ],
   "source": [
    "calculate_Aj(calculate_Lj(2, [0, 0.3, 0.5]))"
   ]
  },
  {
   "cell_type": "code",
   "execution_count": 48,
   "metadata": {},
   "outputs": [],
   "source": [
    "def calculate_Dj(feed_tray :int)-> np.array:\n",
    "    \"\"\"\n",
    "    Calculate the Dj values for each component.\n",
    "\n",
    "    Returns:\n",
    "    list\n",
    "        List of Dj values for each component.\n",
    "    \"\"\"\n",
    "    # Dij = 0\n",
    "    Dij = np.zeros((3, 3))\n",
    "    Dij[feed_tray-1] = - 100 * np.array([0.6, 0.2, 0.2])\n",
    "    return Dij"
   ]
  },
  {
   "cell_type": "code",
   "execution_count": 49,
   "metadata": {},
   "outputs": [
    {
     "data": {
      "text/plain": [
       "array([[  0.,   0.,   0.],\n",
       "       [-60., -20., -20.],\n",
       "       [  0.,   0.,   0.]])"
      ]
     },
     "execution_count": 49,
     "metadata": {},
     "output_type": "execute_result"
    }
   ],
   "source": [
    "calculate_Dj(2)"
   ]
  },
  {
   "cell_type": "code",
   "execution_count": 50,
   "metadata": {},
   "outputs": [],
   "source": [
    "def thomas_algorithm(A: np.array, B: np.array, C: np.array, D: np.array)-> np.array:\n",
    "    \"\"\"\n",
    "    Solve a tridiagonal system of equations using the Thomas algorithm.\n",
    "\n",
    "    Parameters:\n",
    "    A : list\n",
    "        Lower diagonal elements.\n",
    "    B : list\n",
    "        Main diagonal elements.\n",
    "    C : list\n",
    "        Upper diagonal elements.\n",
    "    D : list\n",
    "        Right-hand side vector.\n",
    "\n",
    "    Returns:\n",
    "    list\n",
    "        Solution vector.\n",
    "    \"\"\"\n",
    "    n = len(B)\n",
    "    c_prime = np.zeros(n)\n",
    "    d_prime = np.zeros(n)\n",
    "    x = np.zeros(n)\n",
    "    \n",
    "    c_prime[0] = C[0]/B[0]\n",
    "    d_prime[0] = D[0]/B[0]\n",
    "    \n",
    "    for i in range(1, n):\n",
    "        c_prime[i] = C[i]/(B[i] - A[i]*c_prime[i-1])\n",
    "        d_prime[i] = (D[i] - A[i]*d_prime[i-1])/(B[i] - A[i]*c_prime[i-1])\n",
    "    \n",
    "    x[-1] = d_prime[-1]\n",
    "    \n",
    "    for i in range(n-2, -1, -1):\n",
    "        x[i] = d_prime[i] - c_prime[i]*x[i+1]\n",
    "    \n",
    "    return x"
   ]
  },
  {
   "cell_type": "code",
   "execution_count": 51,
   "metadata": {},
   "outputs": [
    {
     "data": {
      "text/plain": [
       "array([0.56640823, 0.34748971, 0.19376154, 0.09153758, 0.03359177])"
      ]
     },
     "execution_count": 51,
     "metadata": {},
     "output_type": "execute_result"
    }
   ],
   "source": [
    "A = [0, 100, 100, 200, 200]\n",
    "B = [-150, -344.5, -525.5, -605, -545]\n",
    "C = [244.5, 325.5, 405, 495, 0]\n",
    "D = [0, 0, -30, 0, 0]\n",
    "\n",
    "thomas_algorithm(A, B, C, D)"
   ]
  },
  {
   "cell_type": "code",
   "execution_count": 260,
   "metadata": {},
   "outputs": [
    {
     "data": {
      "text/plain": [
       "array([0.2643203 , 0.12981994, 0.03622478])"
      ]
     },
     "execution_count": 260,
     "metadata": {},
     "output_type": "execute_result"
    }
   ],
   "source": [
    "A = [0, 2000, 3000]\n",
    "B = [-4088.4, -11024.2, -10751.2]\n",
    "C = [8324.2,8351.2,0]\n",
    "D = [0,-600, 0]\n",
    "\n",
    "thomas_algorithm(A, B, C, D)"
   ]
  },
  {
   "cell_type": "code",
   "execution_count": 285,
   "metadata": {},
   "outputs": [
    {
     "data": {
      "text/plain": [
       "array([0.49869638, 0.26743017, 0.12042065])"
      ]
     },
     "execution_count": 285,
     "metadata": {},
     "output_type": "execute_result"
    }
   ],
   "source": [
    "A = [0, 2000, 3000]\n",
    "B = [-2921, -6847, -6662.4]\n",
    "C = [5447,5262.4,0]\n",
    "D = [0,-200, 0]\n",
    "\n",
    "thomas_algorithm(A, B, C, D)"
   ]
  },
  {
   "cell_type": "code",
   "execution_count": 286,
   "metadata": {},
   "outputs": [
    {
     "data": {
      "text/plain": [
       "array([0.28899746, 0.19929546, 0.10929083])"
      ]
     },
     "execution_count": 286,
     "metadata": {},
     "output_type": "execute_result"
    }
   ],
   "source": [
    "A = [0, 2000, 3000]\n",
    "B = [-2198.2, -5587.6, -5470.6]\n",
    "C = [3187.6, 3070.6 ,0]\n",
    "D = [0,-200, 0]\n",
    "\n",
    "thomas_algorithm(A, B, C, D)"
   ]
  },
  {
   "cell_type": "code",
   "execution_count": 582,
   "metadata": {},
   "outputs": [],
   "source": [
    "from typing import Tuple"
   ]
  },
  {
   "cell_type": "code",
   "execution_count": 586,
   "metadata": {},
   "outputs": [],
   "source": [
    "class Distillation:\n",
    "    def __init__(self, feed_rate: int = 1000, distillate_rate: int = 600, reflux_rate: int = 2000, stages: int = 3, pressure: int = 1, components: list = ['methanol', 'ethanol', 'n-propanol'], feed_composition: list = [0.6, 0.2, 0.2], boiling_points: list = [65, 98, 97], convergence_tolerance: float = 1e-6, max_iterations: int = 1000):\n",
    "        \"\"\" \n",
    "        Initialize the distillation column parameters.\n",
    "        \n",
    "        Parameters:\n",
    "        feed_rate : int\n",
    "            Feed rate of the mixture in kmol/h.\n",
    "        distillate_rate : int\n",
    "            Distillate rate in kmol/h.\n",
    "        reflux_rate : int\n",
    "            Reflux rate in kmol/h.\n",
    "        stages : int\n",
    "            Number of equilibrium stages.\n",
    "        pressure : int\n",
    "            Operating pressure in atm.\n",
    "        components : list\n",
    "            List of component names.\n",
    "        feed_composition : list \n",
    "            List of feed composition in mole fractions.\n",
    "        boiling_points : list\n",
    "            List of boiling points for each component.\n",
    "        temperature_profile : np.array\n",
    "            Temperature profile for the distillation column.\n",
    "        convergence_tolerance : float\n",
    "            Convergence tolerance for the solution.\n",
    "        max_iterations : int\n",
    "            Maximum number of iterations for the solution.\n",
    "\n",
    "        Returns:\n",
    "        None\n",
    "        \"\"\"\n",
    "\n",
    "        self.feed_rate = feed_rate\n",
    "        self.distillate_rate = distillate_rate\n",
    "        self.bottom_pdt_rate = feed_rate - distillate_rate\n",
    "        self.reflux_rate = reflux_rate\n",
    "        self.stages = stages\n",
    "        self.pressure = pressure\n",
    "        self.components = components\n",
    "        self.num_components = len(components)\n",
    "        self.feed_composition = feed_composition\n",
    "        self.boiling_points = boiling_points\n",
    "        self.convergence_tolerance = convergence_tolerance\n",
    "        self.max_iterations = max_iterations\n",
    "        self.temperature_profile = np.zeros((self.stages, len(self.components)))\n",
    "        \n",
    "    def calculate_Pij(self, C1: np.array, C2: np.array, C3: np.array, C4: np.array, C5: np.array, T_j: np.array) -> np.array:\n",
    "        \"\"\"\n",
    "        Calculate the saturation pressure of a component at a given temperature.\n",
    "\n",
    "        Parameters:\n",
    "        C1, C2, C3, C4, C5 : np.array\n",
    "            Coefficients for the equation.\n",
    "        T_j : np.array\n",
    "            Temperature in Celsius.\n",
    "\n",
    "        Returns:\n",
    "        np.array\n",
    "            Saturation pressure in atm.\n",
    "        \"\"\"\n",
    "       # Convert temperature from Celsius to Kelvin\n",
    "        T_j_K = T_j + 273.15\n",
    "\n",
    "        # 𝑃𝑠 = exp[𝐶1 + 𝐶2𝑇 + 𝐶3ln𝑇 + 𝐶4𝑇**𝐶5]\n",
    "\n",
    "        P = np.array([\n",
    "            [\n",
    "                np.exp(C1[i] + C2[i] / T_j_K[j] + C3[i] * np.log(T_j_K[j]) + C4[i] * T_j_K[j] ** C5[i])\n",
    "                for j in range(len(T_j))\n",
    "            ] \n",
    "            for i in range(len(self.components))\n",
    "        ])\n",
    "        P = P*1e-5\n",
    "        return P\n",
    "    \n",
    "    def calculatate_Kij(self, Pij_sat: np.array)-> np.array:\n",
    "        \"\"\"\n",
    "        Calculate the Ki values for the components.\n",
    "\n",
    "        Parameters:\n",
    "        Pi_sat : list\n",
    "            List of saturation pressures for the components.\n",
    "\n",
    "        Returns:\n",
    "        list\n",
    "            List of Ki values for the components.\n",
    "        \"\"\"\n",
    "        return np.array([[Pij_sat[i][j]/self.pressure for i in range(len(Pij_sat))] for j in range(len(Pij_sat[0]))])\n",
    "    \n",
    "    def calculate_Lj(self, feed_tray: int , Vj: np.array)-> np.array:\n",
    "        \"\"\"\n",
    "        Calculate the liquid flow rates for each component.\n",
    "\n",
    "        Parameters:\n",
    "        feed_tray : int\n",
    "            NUmber of tray at which feed is given in the distillation column.\n",
    "        Vj : list\n",
    "            List of vapor flow rates.\n",
    "\n",
    "        Returns:\n",
    "        list\n",
    "            List of liquid flow rates for each component.\n",
    "        \"\"\"\n",
    "        Lj = np.zeros_like(Vj)\n",
    "\n",
    "        # Lj Before feed tray\n",
    "        for i in range(feed_tray-1):\n",
    "            Lj[i] = Vj[i+1] - self.distillate_rate\n",
    "            \n",
    "        # Lj After feed tray\n",
    "        for i in range(feed_tray-1, self.stages-1):\n",
    "            Lj[i] = Vj[i+1] + self.feed_rate - self.distillate_rate\n",
    "        \n",
    "        for i in range(self.stages-1,self.stages):\n",
    "            Lj[i] = Lj[i-1]\n",
    "\n",
    "        return Lj\n",
    "    \n",
    "    def calculate_Aj(self, Lj: np.array)-> np.array:\n",
    "        \"\"\"\n",
    "        Calculate the Aj values for each component.\n",
    "\n",
    "        Parameters:\n",
    "        Lj : list\n",
    "            List of liquid flow rates for each component.\n",
    "\n",
    "        Returns:\n",
    "        list\n",
    "            List of Aj values for each component.\n",
    "        \"\"\"\n",
    "        # Aj = Lj-1\n",
    "        Aj = np.zeros_like(Lj)\n",
    "        Aj[0] = 0\n",
    "        Aj[1:] = Lj[:-1]\n",
    "        return Aj\n",
    "    \n",
    "    def calculate_Bij(self,Vj: np.array, Lj: np.array, Kij: np.array)-> np.array:\n",
    "        \"\"\"\n",
    "        Calculate the Bij values for each component.\n",
    "\n",
    "        Parameters:\n",
    "        Lj : list\n",
    "            List of liquid flow rates for each component.\n",
    "        Kij : list\n",
    "            List of Ki values for the components.\n",
    "\n",
    "        Returns:\n",
    "        list\n",
    "            List of Bij values for each component.\n",
    "        \"\"\"\n",
    "        # Bij[i][j] = Lj[i] + (Vj+1[i] +self.reflux) * Kij[i][j]\n",
    "        \n",
    "        \n",
    "        return np.array([[self.distillate_rate - Lj[j] - (Vj[j]) * Kij[j][i] for j in range(len(Kij[0]))] for i in range(len(Kij))])\n",
    "    \n",
    "    def calculate_Cij(self, Vj: np.array, Kij: np.array)-> np.array:\n",
    "        \"\"\"\n",
    "        Parameters:\n",
    "        Vj : list\n",
    "            List of vapor flow rates.\n",
    "        Kij : list\n",
    "            List of Ki values for the components.\n",
    "\n",
    "        Returns:\n",
    "        list\n",
    "            List of Cj values for each component.\n",
    "        \"\"\"\n",
    "        # Cij = - Vj * Kij\n",
    "        # Ensure Vj is reshaped for broadcasting\n",
    "        Vj_reshaped = Vj.reshape(1, -1)  # Shape (1, m)\n",
    "\n",
    "        # Compute Cij using broadcasting\n",
    "        Cij = Vj_reshaped * Kij  # (n, m) * (1, m) results in (n, m)\n",
    "        Cij = np.transpose(Cij)\n",
    "        # Shift left and set the last column to 0\n",
    "        Cij_shifted = np.hstack((Cij[:, 1:], np.zeros((Cij.shape[0], 1))))\n",
    "        return Cij_shifted\n",
    "    \n",
    "    def calculate_Dij(self,  feed_tray :int)-> np.array:\n",
    "        \"\"\"\n",
    "        Calculate the Dj values for each component.\n",
    "\n",
    "        Returns:\n",
    "        list\n",
    "            List of Dj values for each component.\n",
    "        \"\"\"\n",
    "        # Dj = 0.0\n",
    "        # Dij = 0\n",
    "        Dij = np.zeros((self.num_components, self.num_components))\n",
    "        Dij[feed_tray-1] = [-self.feed_rate* X for X in self.feed_composition]\n",
    "        return np.transpose(Dij)\n",
    "    \n",
    "    def calculate_Tj(self, A:np.array, B: np.array, C: np.array, Xij:np.array ) -> np.array:\n",
    "        \"\"\"\n",
    "        Calculate the temperature profile for the distillation column.\n",
    "\n",
    "        Parameters:\n",
    "        A : list\n",
    "            List of A coeff. of antoine equation.\n",
    "        B : list\n",
    "            List of B coeff. of antoine equation.\n",
    "        C : list\n",
    "            List of C coeff. of antoine equation.\n",
    "        Xij : list\n",
    "            List of Xij values for the components.\n",
    "\n",
    "        Returns:\n",
    "        list\n",
    "            Temperature values for stages of the distillation column.\n",
    "        \"\"\"\n",
    "        # returning that value of T_j for which summation of  \n",
    "\n",
    "        # np.e(A[i] + (B[i]/T_j[j]+C[i])Xij[i][j])  \n",
    "\n",
    "        # for all i and j values should be equal to self.pressure, \n",
    "        # for this we need to assume the values of T_j from the range of boiling points of the components for iteration\n",
    "\n",
    "        T_j = np.zeros(self.stages)\n",
    "        for stage in range(self.stages):\n",
    "            T_guess = np.mean(self.boiling_points)\n",
    "            for _ in range(self.max_iterations):\n",
    "                P_total = sum([10**(A[i] - (B[i] / (T_guess + C[i]))) * Xij[stage][i] for i in range(len(self.components))])\n",
    "                if np.isclose(P_total, self.pressure, atol=self.convergence_tolerance):\n",
    "                    break\n",
    "                T_guess += (self.pressure - P_total) * 0.1  # Adjust the temperature guess\n",
    "            T_j[stage] = T_guess\n",
    "        return T_j\n",
    "\n",
    "\n",
    "\n",
    "    def check_summation(self, Xij: np.array) -> np.array:\n",
    "        \"\"\"\n",
    "        Check if the summation of Xij is equal to 1.\n",
    "\n",
    "        Parameters:\n",
    "        Xij : list\n",
    "            List of component mole fractions.\n",
    "\n",
    "        Returns:\n",
    "        bool\n",
    "            True if the summation is equal to 1, False otherwise.\n",
    "        \"\"\"\n",
    "        # NOrmalisation of Xij values to 1\n",
    "        # Normalize each row to sum to 1\n",
    "        Xij_nor = Xij / Xij.sum(axis=1, keepdims=True)  # Row-wise normalization\n",
    "\n",
    "        # Check if each row sums to 1 within tolerance\n",
    "        # is_normalized = np.all(np.isclose(Xij_nor.sum(axis=1), 1, atol=self.convergence_tolerance))\n",
    "\n",
    "        return Xij_nor # Row-wise normalization\n",
    "    \n",
    "    # calculate Tj from summation of Xij and Kij values equals to 1\n",
    "    def calculate_Tj(self, A:np.array, B: np.array, C: np.array, Xij:np.array ) -> np.array:\n",
    "        \"\"\"\n",
    "        Calculate the temperature profile for the distillation column.\n",
    "\n",
    "        Parameters:\n",
    "        A : list\n",
    "            List of A coeff. of antoine equation.\n",
    "        B : list\n",
    "            List of B coeff. of antoine equation.\n",
    "        C : list\n",
    "            List of C coeff. of antoine equation.\n",
    "        Xij : list\n",
    "            List of Xij values for the components.\n",
    "\n",
    "        Returns:\n",
    "        list\n",
    "            Temperature values for stages of the distillation column.\n",
    "        \"\"\"\n",
    "        # returning that value of T_j for which summation of  \n",
    "\n",
    "        # np.e(A[i] + (B[i]/T_j[j]+C[i])Xij[i][j])  \n",
    "\n",
    "        # for all i and j values should be equal to self.pressure, \n",
    "        # for this we need to assume the values of T_j from the range of boiling points of the components for iteration\n",
    "\n",
    "        T_j = np.zeros(self.stages)\n",
    "        for stage in range(self.stages):\n",
    "            T_guess = np.mean(self.boiling_points)\n",
    "            for _ in range(self.max_iterations):\n",
    "                P_total = sum([10**(A[i] - (B[i] / (T_guess + C[i]))) * Xij[stage][i] for i in range(len(self.components))])\n",
    "                if np.isclose(P_total, self.pressure, atol=self.convergence_tolerance):\n",
    "                    break\n",
    "                T_guess += (self.pressure - P_total) * 0.1  # Adjust the temperature guess\n",
    "            T_j[stage] = T_guess\n",
    "        return T_j\n",
    "    \n",
    "    def calculate_Vj_heat_balance(self, Lj: np.array, hL: np.array, hV: np.array, hF: float, Q: float, feed_tray: int) -> np.array:\n",
    "        \"\"\"\n",
    "        Calculate the vapor flow rates for each component using the heat balance equation.\n",
    "\n",
    "        Parameters:\n",
    "        Lj : np.array\n",
    "            List of liquid flow rates for each component.\n",
    "        hL : np.array\n",
    "            List of enthalpies of liquid for each stage.\n",
    "        hV : np.array\n",
    "            List of enthalpies of vapor for each stage.\n",
    "        hF : float\n",
    "            Enthalpy of the feed.\n",
    "        Q : float\n",
    "            Heat added or removed from the stage.\n",
    "        feed_tray : int\n",
    "            The feed tray number.\n",
    "\n",
    "        Returns:\n",
    "        np.array\n",
    "            Vapor flow rates for each component.\n",
    "        \"\"\"\n",
    "        Vj = np.zeros_like(Lj)\n",
    "\n",
    "        # Heat balance equation for each stage\n",
    "        for j in range(self.stages):\n",
    "            if j == 0:\n",
    "                Vj[j] = (hL[j] * Lj[j] + Q) / hV[j]\n",
    "            elif j == self.stages - 1:\n",
    "                Vj[j] = (hL[j-1] * Lj[j-1] + hF * self.feed_rate - hL[j] * Lj[j] + Q) / hV[j]\n",
    "            else:\n",
    "                Vj[j] = (hL[j-1] * Lj[j-1] + hV[j+1] * Vj[j+1] + (hF * self.feed_rate if j == feed_tray else 0) - hL[j] * Lj[j] + Q) / hV[j]\n",
    "\n",
    "        return Vj\n",
    "    \n",
    "    # Calcualtion of enthalpy of liquid and vapor and feed for each stage\n",
    "    def calculate_enthalpies(self, Xij: np.array, Kij: np.array, hij: np.array) -> Tuple[np.array, np.array, float]:\n",
    "        \"\"\"\n",
    "        Calculate the enthalpies of liquid, vapor, and feed.\n",
    "\n",
    "        Parameters:\n",
    "        Xij : np.array\n",
    "            Mole fractions of components in the liquid phase for each stage.\n",
    "        Kij : np.array\n",
    "            Equilibrium constants for the components.\n",
    "        hij : np.array\n",
    "            Enthalpies of components.\n",
    "\n",
    "        Returns:\n",
    "        hL : np.array\n",
    "            Enthalpies of liquid for each stage.\n",
    "        hV : np.array\n",
    "            Enthalpies of vapor for each stage.\n",
    "        hF : float\n",
    "            Enthalpy of the feed.\n",
    "        \"\"\"\n",
    "        hL = np.zeros(self.stages)\n",
    "        hV = np.zeros(self.stages)\n",
    "\n",
    "        for j in range(self.stages):\n",
    "            hL[j] = sum([Xij[j][i] * hij[i] for i in range(len(self.components))])\n",
    "            hV[j] = sum([Kij[j][i] * Xij[j][i] * hij[i] for i in range(len(self.components))]) / sum([Kij[j][i] * Xij[j][i] for i in range(len(self.components))])\n",
    "        \n",
    "        hF = sum([self.feed_composition[i] * hij[i] for i in range(len(self.components))])\n",
    "        \n",
    "        return hL, hV, hF"
   ]
  },
  {
   "cell_type": "code",
   "execution_count": 587,
   "metadata": {},
   "outputs": [],
   "source": [
    "C1 = np.array([81.768, 74.475, 88.134])\n",
    "C2 = np.array([-6876, -7164.3, -8438.6])\n",
    "C3 = np.array([-8.7078, -7.327, -9.0766])\n",
    "C4 = np.array([7.1926e-6, 3.1340e-6, 8.3303e-18])\n",
    "C5 = np.array([2, 2, 6])\n",
    "T_j = np.array([65, 98, 97])"
   ]
  },
  {
   "cell_type": "code",
   "execution_count": 588,
   "metadata": {},
   "outputs": [
    {
     "name": "stdout",
     "output_type": "stream",
     "text": [
      "[[1.03413114 3.3169486  3.21284295]\n",
      " [0.58565375 2.09559761 2.02411882]\n",
      " [0.30753875 1.22607848 1.18120467]]\n"
     ]
    }
   ],
   "source": [
    "distillation = Distillation()\n",
    "print(distillation.calculate_Pij(C1, C2, C3, C4, C5, T_j))\n",
    "P_ij = distillation.calculate_Pij(C1, C2, C3, C4, C5, T_j)"
   ]
  },
  {
   "cell_type": "code",
   "execution_count": 589,
   "metadata": {},
   "outputs": [
    {
     "name": "stdout",
     "output_type": "stream",
     "text": [
      "[[1.03413114 0.58565375 0.30753875]\n",
      " [3.3169486  2.09559761 1.22607848]\n",
      " [3.21284295 2.02411882 1.18120467]]\n"
     ]
    }
   ],
   "source": [
    "print(distillation.calculatate_Kij(Pij_sat=P_ij))\n",
    "K_ij = distillation.calculatate_Kij(Pij_sat=P_ij)"
   ]
  },
  {
   "cell_type": "code",
   "execution_count": 590,
   "metadata": {},
   "outputs": [
    {
     "name": "stdout",
     "output_type": "stream",
     "text": [
      "[2000 3000 3000]\n"
     ]
    }
   ],
   "source": [
    "print(distillation.calculate_Lj(feed_tray=2, Vj=[2600, 2600,2600]))\n",
    "\n",
    "L_j = distillation.calculate_Lj(feed_tray=2, Vj=[2600, 2600,2600])"
   ]
  },
  {
   "cell_type": "code",
   "execution_count": 591,
   "metadata": {},
   "outputs": [
    {
     "name": "stdout",
     "output_type": "stream",
     "text": [
      "[   0 2000 3000]\n"
     ]
    }
   ],
   "source": [
    "A_j = distillation.calculate_Aj(Lj=L_j)\n",
    "print(A_j)"
   ]
  },
  {
   "cell_type": "code",
   "execution_count": 592,
   "metadata": {},
   "outputs": [
    {
     "name": "stdout",
     "output_type": "stream",
     "text": [
      "[[ -4088.7409626  -11024.06634939 -10753.3916643 ]\n",
      " [ -2922.69974954  -7848.55378498  -7662.70892353]\n",
      " [ -2199.60074655  -5587.8040587   -5471.1321516 ]]\n"
     ]
    }
   ],
   "source": [
    "B_ij = distillation.calculate_Bij(Lj=L_j, Kij=K_ij,Vj=[2600, 2600,2600])\n",
    "print(B_ij)"
   ]
  },
  {
   "cell_type": "code",
   "execution_count": 593,
   "metadata": {},
   "outputs": [
    {
     "name": "stdout",
     "output_type": "stream",
     "text": [
      "[[8624.06634939 8353.3916643     0.        ]\n",
      " [5448.55378498 5262.70892353    0.        ]\n",
      " [3187.8040587  3071.1321516     0.        ]]\n"
     ]
    }
   ],
   "source": [
    "C_ij = distillation.calculate_Cij(Vj=np.array([2600, 2600, 2600]), Kij=K_ij)\n",
    "print(C_ij)"
   ]
  },
  {
   "cell_type": "code",
   "execution_count": 594,
   "metadata": {},
   "outputs": [
    {
     "name": "stdout",
     "output_type": "stream",
     "text": [
      "[[   0. -600.    0.]\n",
      " [   0. -200.    0.]\n",
      " [   0. -200.    0.]]\n"
     ]
    }
   ],
   "source": [
    "D_ij = distillation.calculate_Dij(feed_tray=2)\n",
    "print(D_ij)"
   ]
  },
  {
   "cell_type": "code",
   "execution_count": 595,
   "metadata": {},
   "outputs": [
    {
     "name": "stdout",
     "output_type": "stream",
     "text": [
      "[   0 2000 3000]\n",
      "[[ -4088.7409626  -11024.06634939 -10753.3916643 ]\n",
      " [ -2922.69974954  -7848.55378498  -7662.70892353]\n",
      " [ -2199.60074655  -5587.8040587   -5471.1321516 ]]\n",
      "[[8624.06634939 8353.3916643     0.        ]\n",
      " [5448.55378498 5262.70892353    0.        ]\n",
      " [3187.8040587  3071.1321516     0.        ]]\n",
      "[[   0. -600.    0.]\n",
      " [   0. -200.    0.]\n",
      " [   0. -200.    0.]]\n"
     ]
    }
   ],
   "source": [
    "print(A_j)\n",
    "print(B_ij)\n",
    "print(C_ij)\n",
    "print(D_ij)"
   ]
  },
  {
   "cell_type": "code",
   "execution_count": 596,
   "metadata": {},
   "outputs": [
    {
     "name": "stdout",
     "output_type": "stream",
     "text": [
      "[0.28278968 0.13407292 0.0374039 ]\n",
      "[0.18101588 0.09710009 0.03801531]\n",
      "[0.28833273 0.19895102 0.10909133]\n"
     ]
    }
   ],
   "source": [
    "temp_values = []\n",
    "\n",
    "for i in range(3):\n",
    "    temp = thomas_algorithm(A_j, B_ij[i], C_ij[i], D_ij[i])\n",
    "    print(temp)\n",
    "    temp_values.append(temp)\n"
   ]
  },
  {
   "cell_type": "code",
   "execution_count": 597,
   "metadata": {},
   "outputs": [
    {
     "data": {
      "text/plain": [
       "array([[0.28278968, 0.13407292, 0.0374039 ],\n",
       "       [0.18101588, 0.09710009, 0.03801531],\n",
       "       [0.28833273, 0.19895102, 0.10909133]])"
      ]
     },
     "execution_count": 597,
     "metadata": {},
     "output_type": "execute_result"
    }
   ],
   "source": [
    "Xij =np.array(temp_values)\n",
    "Xij"
   ]
  },
  {
   "cell_type": "code",
   "execution_count": 598,
   "metadata": {},
   "outputs": [],
   "source": [
    "Xij_= distillation.check_summation(Xij)"
   ]
  },
  {
   "cell_type": "code",
   "execution_count": 599,
   "metadata": {},
   "outputs": [
    {
     "data": {
      "text/plain": [
       "array([[0.62251934, 0.29514155, 0.08233911],\n",
       "       [0.57259718, 0.30715116, 0.12025166],\n",
       "       [0.48347548, 0.3336005 , 0.18292402]])"
      ]
     },
     "execution_count": 599,
     "metadata": {},
     "output_type": "execute_result"
    }
   ],
   "source": [
    "Xij_"
   ]
  },
  {
   "cell_type": "code",
   "execution_count": 600,
   "metadata": {},
   "outputs": [],
   "source": [
    "A = [5.20409, 5.3229, 5.31384]\n",
    "B = [1581.341, 1670.409, 1690.864]\n",
    "C = [-33.5, -40.191, -51.804]"
   ]
  },
  {
   "cell_type": "code",
   "execution_count": 601,
   "metadata": {},
   "outputs": [],
   "source": [
    "Tj_new = distillation.calculate_Tj(A,B,C,Xij_)"
   ]
  },
  {
   "cell_type": "code",
   "execution_count": 602,
   "metadata": {},
   "outputs": [
    {
     "data": {
      "text/plain": [
       "array([186.66663749, 186.66663967, 186.66664353])"
      ]
     },
     "execution_count": 602,
     "metadata": {},
     "output_type": "execute_result"
    }
   ],
   "source": [
    "Tj_new"
   ]
  },
  {
   "cell_type": "code",
   "execution_count": 613,
   "metadata": {},
   "outputs": [],
   "source": [
    "hij_v = [35300, 38600, 47600]"
   ]
  },
  {
   "cell_type": "code",
   "execution_count": 614,
   "metadata": {},
   "outputs": [],
   "source": [
    "hv,hl,hf = distillation.calculate_enthalpies(Xij_,K_ij,hij=hij_v)"
   ]
  },
  {
   "cell_type": "code",
   "execution_count": 615,
   "metadata": {},
   "outputs": [],
   "source": [
    "Vj_new = distillation.calculate_Vj_heat_balance(L_j,hl,hv,hf,Q=0,feed_tray=2)"
   ]
  },
  {
   "cell_type": "code",
   "execution_count": 616,
   "metadata": {},
   "outputs": [
    {
     "data": {
      "text/plain": [
       "array([1949, -994,  952])"
      ]
     },
     "execution_count": 616,
     "metadata": {},
     "output_type": "execute_result"
    }
   ],
   "source": [
    "Vj_new"
   ]
  },
  {
   "cell_type": "code",
   "execution_count": null,
   "metadata": {},
   "outputs": [],
   "source": [
    "hij_v = [-35.3, -38.6, -47.6]"
   ]
  },
  {
   "cell_type": "code",
   "execution_count": null,
   "metadata": {},
   "outputs": [],
   "source": [
    "import numpy as np\n",
    "from typing import Tuple\n",
    "\n",
    "class MultistageDistillation:\n",
    "    def __init__(self, components, boiling_points, pressure, stages, max_iterations, convergence_tolerance, feed_rate, feed_composition, reflux, distillate):\n",
    "        self.components = components\n",
    "        self.boiling_points = boiling_points\n",
    "        self.pressure = pressure\n",
    "        self.stages = stages\n",
    "        self.max_iterations = max_iterations\n",
    "        self.convergence_tolerance = convergence_tolerance\n",
    "        self.feed_rate = feed_rate\n",
    "        self.feed_composition = feed_composition\n",
    "        self.reflux = reflux\n",
    "        self.distillate = distillate\n",
    "\n",
    "    def calculate_Tj(self, A: np.array, B: np.array, C: np.array, Xij: np.array) -> np.array:\n",
    "        \"\"\"\n",
    "        Calculate the temperature profile (Tj) for each stage in the distillation column \n",
    "        using the Bubble Point method.\n",
    "\n",
    "        Parameters:\n",
    "        A, B, C : Antoine equation coefficients (arrays)\n",
    "        Xij : Mole fractions of components in the liquid phase for each stage.\n",
    "\n",
    "        Returns:\n",
    "        T_j : np.array\n",
    "            Temperature values for each stage.\n",
    "        \"\"\"\n",
    "        T_j = np.zeros(self.stages)\n",
    "\n",
    "        for stage in range(self.stages):\n",
    "            T_guess = np.mean(self.boiling_points)  # Initial guess within boiling points range\n",
    "\n",
    "            for _ in range(self.max_iterations):\n",
    "                P_total = sum([10 ** (A[i] - (B[i] / (T_guess + C[i]))) * Xij[stage][i] \n",
    "                               for i in range(len(self.components))])\n",
    "\n",
    "                if np.isclose(P_total, self.pressure, atol=self.convergence_tolerance):\n",
    "                    break\n",
    "                \n",
    "                T_guess += (self.pressure - P_total) * 0.1  # Adjust the temperature guess\n",
    "\n",
    "            T_j[stage] = T_guess\n",
    "\n",
    "        return T_j\n",
    "\n",
    "    def calculate_Vj_heat_balance(self, Lj: np.array, hL: np.array, hV: np.array, hF: float, Q: float, feed_tray: int) -> np.array:\n",
    "        \"\"\"\n",
    "        Calculate vapor flow rates (Vj) for each stage using the Heat Balance Equation.\n",
    "\n",
    "        Parameters:\n",
    "        Lj : np.array\n",
    "            Liquid flow rates per stage.\n",
    "        hL : np.array\n",
    "            Enthalpies of the liquid phase per stage.\n",
    "        hV : np.array\n",
    "            Enthalpies of the vapor phase per stage.\n",
    "        hF : float\n",
    "            Enthalpy of the feed.\n",
    "        Q : float\n",
    "            Heat added or removed from the system.\n",
    "        feed_tray : int\n",
    "            Index of the feed tray.\n",
    "\n",
    "        Returns:\n",
    "        Vj : np.array\n",
    "            Vapor flow rates per stage.\n",
    "        \"\"\"\n",
    "        Vj = np.zeros(self.stages)\n",
    "\n",
    "        for j in range(self.stages):\n",
    "            if j == 0:  # Condenser stage\n",
    "                Vj[j] = (hL[j] * Lj[j] + Q) / hV[j]\n",
    "            elif j == self.stages - 1:  # Reboiler stage\n",
    "                Vj[j] = (hL[j-1] * Lj[j-1] + hF * self.feed_rate - hL[j] * Lj[j] + Q) / hV[j]\n",
    "            else:  # Intermediate stages\n",
    "                Vj[j] = (hL[j-1] * Lj[j-1] + hV[j+1] * Vj[j+1] + (hF * self.feed_rate if j == feed_tray else 0) - hL[j] * Lj[j] + Q) / hV[j]\n",
    "\n",
    "        return Vj\n",
    "\n",
    "    def calculate_enthalpies(self, Xij: np.array, Kij: np.array, hij: np.array) -> Tuple[np.array, np.array, float]:\n",
    "        \"\"\"\n",
    "        Calculate the enthalpies of liquid (hL), vapor (hV), and feed (hF).\n",
    "\n",
    "        Parameters:\n",
    "        Xij : np.array\n",
    "            Mole fractions of components in the liquid phase per stage.\n",
    "        Kij : np.array\n",
    "            Equilibrium constants per component per stage.\n",
    "        hij : np.array\n",
    "            Pure component enthalpies.\n",
    "\n",
    "        Returns:\n",
    "        Tuple containing:\n",
    "        - hL : np.array (Liquid enthalpies per stage)\n",
    "        - hV : np.array (Vapor enthalpies per stage)\n",
    "        - hF : float (Feed enthalpy)\n",
    "        \"\"\"\n",
    "        hL = np.zeros(self.stages)\n",
    "        hV = np.zeros(self.stages)\n",
    "\n",
    "        for j in range(self.stages):\n",
    "            hL[j] = sum([Xij[j][i] * hij[i] for i in range(len(self.components))])\n",
    "            hV[j] = sum([Kij[j][i] * Xij[j][i] * hij[i] for i in range(len(self.components))]) / \\\n",
    "                    sum([Kij[j][i] * Xij[j][i] for i in range(len(self.components))])\n",
    "\n",
    "        hF = sum([self.feed_composition[i] * hij[i] for i in range(len(self.components))])\n",
    "\n",
    "        return hL, hV, hF\n"
   ]
  }
 ],
 "metadata": {
  "kernelspec": {
   "display_name": "Python 3",
   "language": "python",
   "name": "python3"
  },
  "language_info": {
   "codemirror_mode": {
    "name": "ipython",
    "version": 3
   },
   "file_extension": ".py",
   "mimetype": "text/x-python",
   "name": "python",
   "nbconvert_exporter": "python",
   "pygments_lexer": "ipython3",
   "version": "3.10.11"
  }
 },
 "nbformat": 4,
 "nbformat_minor": 2
}
