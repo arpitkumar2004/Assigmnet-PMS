{
 "cells": [
  {
   "cell_type": "markdown",
   "metadata": {},
   "source": [
    "#### **Q3: BUBBLE POINT METHOD – MULTICOMPONENT MULTISTAGE DISTILLATION** \n",
    "1000 kmol/h of a saturated-liquid mixture of 60% methanol (normal boiling point 65 C), 20 mol% ethanol \n",
    "(normal boiling point 98 C), and 20 mol% n-propanol (normal boiling point 97 C) is fed to the middle \n",
    "stage of a distillation column having three equilibrium stages, a total condenser, a partial reboiler, all \n",
    "operated at 1 atm. The distillate rate is 600 kmol/h, and the external reflux rate is 2,000 kmol/h of \n",
    "saturated liquid."
   ]
  },
  {
   "cell_type": "code",
   "execution_count": null,
   "metadata": {},
   "outputs": [],
   "source": [
    "#### **Q3: BUBBLE POINT METHOD – MULTICOMPONENT MULTISTAGE DISTILLATION** \n",
    "\"\"\" \n",
    "1000 kmol/h of a saturated-liquid mixture of 60% methanol (normal boiling point 65 C), 20 mol% ethanol \n",
    "(normal boiling point 98 C), and 20 mol% n-propanol (normal boiling point 97 C) is fed to the middle \n",
    "stage of a distillation column having three equilibrium stages, a total condenser, a partial reboiler, all \n",
    "operated at 1 atm. The distillate rate is 600 kmol/h, and the external reflux rate is 2,000 kmol/h of \n",
    "saturated liquid.\n",
    "\"\"\"\n",
    "# Write your own code to obtain converged solutions of the temperature profiles.\n",
    "\n",
    "\n",
    "# Algorithm for obtaining converged solutions of the temperature profiles.\n",
    "# 1. Assume an initial temperature profile.\n",
    "# 2. Calculate the bubble point temperature of each stage.\n",
    "# 3. Calculate the dew point temperature of each stage.\n",
    "# 4. Calculate the average temperature of each stage.\n",
    "# 5. Update the temperature profile.\n",
    "# 6. Repeat steps 2-5 until the temperature profile converges.\n"
   ]
  },
  {
   "cell_type": "code",
   "execution_count": null,
   "metadata": {},
   "outputs": [],
   "source": [
    "import numpy as np    \n",
    "def calculate_Pij(A :np.array,B :np.array,C :np.array,T_j :np.array) -> np.array:\n",
    "        \"\"\"\n",
    "        Calculate the saturation pressure of a component at a given temperature.\n",
    "\n",
    "        Parameters:\n",
    "        A : float\n",
    "            Antoine's coefficient A.\n",
    "        B : float\n",
    "            Antoine's coefficient B.\n",
    "        C : float\n",
    "            Antoine's coefficient C.\n",
    "        T : float\n",
    "            Temperature in Celsius.\n",
    "\n",
    "        Returns:\n",
    "        float\n",
    "            Saturation pressure in atm.\n",
    "        \"\"\"\n",
    "        return np.array([[10**(A[i] - B[i]/(T_j[j] + C[i])) for j in range(len(T_j))] for i in range(3)])\n"
   ]
  },
  {
   "cell_type": "code",
   "execution_count": 10,
   "metadata": {},
   "outputs": [
    {
     "name": "stdout",
     "output_type": "stream",
     "text": [
      "[[ 785.09243236 2504.63922632 2426.46128911]\n",
      " [1095.1321941  2931.95583891 2854.08359123]\n",
      " [1259.64939087 3119.33795651 3042.97046498]]\n"
     ]
    }
   ],
   "source": [
    "A= [7.89750, 7.28610, 7.01050]\n",
    "B= [1474.08, 1251.33, 1152.21]\n",
    "C= [229.664, 229.664, 229.664]\n",
    "T_j= [65, 98, 97]\n",
    "\n",
    "print(calculate_Pij(A,B,C,T_j))\n",
    "\n"
   ]
  },
  {
   "cell_type": "code",
   "execution_count": 12,
   "metadata": {},
   "outputs": [
    {
     "name": "stdout",
     "output_type": "stream",
     "text": [
      "[[785.0924323551616, 1095.132194103674, 1259.6493908746313], [2504.63922632249, 2931.9558389086556, 3119.3379565135674], [2426.4612891144425, 2854.0835912281036, 3042.97046498474]]\n"
     ]
    }
   ],
   "source": [
    "def calculatate_Kij(Pij_sat: np.array)-> np.array:\n",
    "    \"\"\"\n",
    "    Calculate the Ki values for the components.\n",
    "\n",
    "    Parameters:\n",
    "    Pi_sat : list\n",
    "        List of saturation pressures for the components.\n",
    "\n",
    "    Returns:\n",
    "    list\n",
    "        List of Ki values for the components.\n",
    "    \"\"\"\n",
    "    return [[Pij_sat[i][j] for i in range(len(Pij_sat))] for j in range(len(Pij_sat[0]))]\n",
    "\n",
    "print(calculatate_Kij(calculate_Pij(A,B,C,T_j)))"
   ]
  },
  {
   "cell_type": "code",
   "execution_count": 13,
   "metadata": {},
   "outputs": [
    {
     "name": "stdout",
     "output_type": "stream",
     "text": [
      "[0.56640823 0.34748971 0.19376154 0.09153758 0.03359177]\n"
     ]
    }
   ],
   "source": [
    "def thomas_algorithm( A: np.array, B: np.array, C: np.array, D: np.array)-> np.array:\n",
    "    \"\"\"\n",
    "    Solve a tridiagonal system of equations using the Thomas algorithm.\n",
    "\n",
    "    Parameters:\n",
    "    A : list\n",
    "        Lower diagonal elements.\n",
    "    B : list\n",
    "        Main diagonal elements.\n",
    "    C : list\n",
    "        Upper diagonal elements.\n",
    "    D : list\n",
    "        Right-hand side vector.\n",
    "\n",
    "    Returns:\n",
    "    list\n",
    "        Solution vector.\n",
    "    \"\"\"\n",
    "    n = len(B)\n",
    "    c_prime = np.zeros(n)\n",
    "    d_prime = np.zeros(n)\n",
    "    x = np.zeros(n)\n",
    "    \n",
    "    c_prime[0] = C[0]/B[0]\n",
    "    d_prime[0] = D[0]/B[0]\n",
    "    \n",
    "    for i in range(1, n):\n",
    "        c_prime[i] = C[i]/(B[i] - A[i]*c_prime[i-1])\n",
    "        d_prime[i] = (D[i] - A[i]*d_prime[i-1])/(B[i] - A[i]*c_prime[i-1])\n",
    "    \n",
    "    x[-1] = d_prime[-1]\n",
    "    \n",
    "    for i in range(n-2, -1, -1):\n",
    "        x[i] = d_prime[i] - c_prime[i]*x[i+1]\n",
    "    \n",
    "    return x\n",
    "\n",
    "A =[0,100,100,200,200]\n",
    "B =[-150,-344.5,-525.5,-605,-545]\n",
    "C =[244.5,325.5,405,495,0]\n",
    "D= [0,0,-30,0,0]\n",
    "\n",
    "print(thomas_algorithm(A,B,C,D))"
   ]
  },
  {
   "cell_type": "code",
   "execution_count": 17,
   "metadata": {},
   "outputs": [
    {
     "name": "stdout",
     "output_type": "stream",
     "text": [
      "True\n"
     ]
    }
   ],
   "source": [
    "def check_summation( Xij: np.array) -> bool:\n",
    "    \"\"\"\n",
    "    Check if the summation of Xij is equal to 1.\n",
    "\n",
    "    Parameters:\n",
    "    Xij : list\n",
    "        List of component mole fractions.\n",
    "\n",
    "    Returns:\n",
    "    bool\n",
    "        True if the summation is equal to 1, False otherwise.\n",
    "    \"\"\"\n",
    "    return np.isclose(sum(Xij), 1, atol=1e-10)\n",
    "print(check_summation([0.2, 0.3, 0.5]))"
   ]
  },
  {
   "cell_type": "code",
   "execution_count": 38,
   "metadata": {},
   "outputs": [],
   "source": [
    "def calculate_Lj( feed_tray: int , Vj: np.array)-> np.array:\n",
    "    \"\"\"\n",
    "    Calculate the liquid flow rates for each component.\n",
    "\n",
    "    Parameters:\n",
    "    Kij : list\n",
    "        List of Ki values for the components.\n",
    "    Vj : list\n",
    "        List of vapor flow rates.\n",
    "\n",
    "    Returns:\n",
    "    list\n",
    "        List of liquid flow rates for each component.\n",
    "    \"\"\"\n",
    "\n",
    "    Lj = np.zeros_like(Vj)\n",
    "\n",
    "    # Lj Before feed tray\n",
    "    for i in range(feed_tray-1):\n",
    "        Lj[i] = Vj[i+1] + 1\n",
    "        \n",
    "    # Lj After feed tray\n",
    "    for i in range(feed_tray-1, 3-1):\n",
    "        Lj[i] = Vj[i+1] + 2+ 1\n",
    "        \n",
    "    return Lj"
   ]
  },
  {
   "cell_type": "code",
   "execution_count": 39,
   "metadata": {},
   "outputs": [
    {
     "data": {
      "text/plain": [
       "array([1.3, 3.5, 0. ])"
      ]
     },
     "execution_count": 39,
     "metadata": {},
     "output_type": "execute_result"
    }
   ],
   "source": [
    "calculate_Lj(2, [0, 0.3, 0.5])\n"
   ]
  },
  {
   "cell_type": "code",
   "execution_count": 41,
   "metadata": {},
   "outputs": [],
   "source": [
    "def calculate_Aj(Lj: np.array)-> np.array:\n",
    "    \"\"\"\n",
    "    Calculate the Aj values for each component.\n",
    "\n",
    "    Parameters:\n",
    "    Lj : list\n",
    "        List of liquid flow rates for each component.\n",
    "    Vj : list\n",
    "        List of vapor flow rates.\n",
    "\n",
    "    Returns:\n",
    "    list\n",
    "        List of Aj values for each component.\n",
    "    \"\"\"\n",
    "    # Aj = Lj-1\n",
    "    Aj = np.zeros_like(Lj)\n",
    "    Aj[0] = 0\n",
    "    Aj[1:] = Lj[:-1]\n",
    "    return Aj"
   ]
  },
  {
   "cell_type": "code",
   "execution_count": 42,
   "metadata": {},
   "outputs": [
    {
     "data": {
      "text/plain": [
       "array([0. , 1.3, 3.5])"
      ]
     },
     "execution_count": 42,
     "metadata": {},
     "output_type": "execute_result"
    }
   ],
   "source": [
    "calculate_Aj(calculate_Lj(2, [0, 0.3, 0.5]))"
   ]
  },
  {
   "cell_type": "code",
   "execution_count": 48,
   "metadata": {},
   "outputs": [],
   "source": [
    "def calculate_Dj(feed_tray :int)-> np.array:\n",
    "    \"\"\"\n",
    "    Calculate the Dj values for each component.\n",
    "\n",
    "    Returns:\n",
    "    list\n",
    "        List of Dj values for each component.\n",
    "    \"\"\"\n",
    "    # Dij = 0\n",
    "    Dij = np.zeros((3, 3))\n",
    "    Dij[feed_tray-1] = - 100 * np.array([0.6, 0.2, 0.2])\n",
    "    return Dij"
   ]
  },
  {
   "cell_type": "code",
   "execution_count": 49,
   "metadata": {},
   "outputs": [
    {
     "data": {
      "text/plain": [
       "array([[  0.,   0.,   0.],\n",
       "       [-60., -20., -20.],\n",
       "       [  0.,   0.,   0.]])"
      ]
     },
     "execution_count": 49,
     "metadata": {},
     "output_type": "execute_result"
    }
   ],
   "source": [
    "calculate_Dj(2)"
   ]
  },
  {
   "cell_type": "code",
   "execution_count": 50,
   "metadata": {},
   "outputs": [],
   "source": [
    "def thomas_algorithm(A: np.array, B: np.array, C: np.array, D: np.array)-> np.array:\n",
    "    \"\"\"\n",
    "    Solve a tridiagonal system of equations using the Thomas algorithm.\n",
    "\n",
    "    Parameters:\n",
    "    A : list\n",
    "        Lower diagonal elements.\n",
    "    B : list\n",
    "        Main diagonal elements.\n",
    "    C : list\n",
    "        Upper diagonal elements.\n",
    "    D : list\n",
    "        Right-hand side vector.\n",
    "\n",
    "    Returns:\n",
    "    list\n",
    "        Solution vector.\n",
    "    \"\"\"\n",
    "    n = len(B)\n",
    "    c_prime = np.zeros(n)\n",
    "    d_prime = np.zeros(n)\n",
    "    x = np.zeros(n)\n",
    "    \n",
    "    c_prime[0] = C[0]/B[0]\n",
    "    d_prime[0] = D[0]/B[0]\n",
    "    \n",
    "    for i in range(1, n):\n",
    "        c_prime[i] = C[i]/(B[i] - A[i]*c_prime[i-1])\n",
    "        d_prime[i] = (D[i] - A[i]*d_prime[i-1])/(B[i] - A[i]*c_prime[i-1])\n",
    "    \n",
    "    x[-1] = d_prime[-1]\n",
    "    \n",
    "    for i in range(n-2, -1, -1):\n",
    "        x[i] = d_prime[i] - c_prime[i]*x[i+1]\n",
    "    \n",
    "    return x"
   ]
  },
  {
   "cell_type": "code",
   "execution_count": 51,
   "metadata": {},
   "outputs": [
    {
     "data": {
      "text/plain": [
       "array([0.56640823, 0.34748971, 0.19376154, 0.09153758, 0.03359177])"
      ]
     },
     "execution_count": 51,
     "metadata": {},
     "output_type": "execute_result"
    }
   ],
   "source": [
    "A = [0, 100, 100, 200, 200]\n",
    "B = [-150, -344.5, -525.5, -605, -545]\n",
    "C = [244.5, 325.5, 405, 495, 0]\n",
    "D = [0, 0, -30, 0, 0]\n",
    "\n",
    "thomas_algorithm(A, B, C, D)"
   ]
  },
  {
   "cell_type": "code",
   "execution_count": null,
   "metadata": {},
   "outputs": [],
   "source": []
  }
 ],
 "metadata": {
  "kernelspec": {
   "display_name": "Python 3",
   "language": "python",
   "name": "python3"
  },
  "language_info": {
   "codemirror_mode": {
    "name": "ipython",
    "version": 3
   },
   "file_extension": ".py",
   "mimetype": "text/x-python",
   "name": "python",
   "nbconvert_exporter": "python",
   "pygments_lexer": "ipython3",
   "version": "3.10.11"
  }
 },
 "nbformat": 4,
 "nbformat_minor": 2
}
